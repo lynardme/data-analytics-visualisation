{
 "cells": [
  {
   "cell_type": "code",
   "execution_count": 1,
   "metadata": {
    "collapsed": true
   },
   "outputs": [],
   "source": [
    "import pandas as pd\n",
    "import numpy as np\n",
    "import os\n",
    "import re\n",
    "import seaborn as sns\n",
    "import matplotlib.pyplot as plt\n",
    "import matplotlib"
   ]
  },
  {
   "cell_type": "code",
   "execution_count": 3,
   "metadata": {
    "collapsed": true
   },
   "outputs": [],
   "source": []
  },
  {
   "cell_type": "code",
   "execution_count": 41,
   "metadata": {
    "collapsed": false
   },
   "outputs": [],
   "source": [
    "with open('new_obesity_data_2014.csv') as f:\n",
    "    df = pd.read_csv(f)"
   ]
  },
  {
   "cell_type": "code",
   "execution_count": 42,
   "metadata": {
    "collapsed": false
   },
   "outputs": [
    {
     "data": {
      "text/html": [
       "<div>\n",
       "<table border=\"1\" class=\"dataframe\">\n",
       "  <thead>\n",
       "    <tr style=\"text-align: right;\">\n",
       "      <th></th>\n",
       "      <th>Country</th>\n",
       "      <th>Both sexes</th>\n",
       "      <th>Female</th>\n",
       "      <th>Male</th>\n",
       "    </tr>\n",
       "  </thead>\n",
       "  <tbody>\n",
       "    <tr>\n",
       "      <th>0</th>\n",
       "      <td>Afghanistan</td>\n",
       "      <td>2.9 [1.6-4.2]</td>\n",
       "      <td>4.1 [2.2-6.7]</td>\n",
       "      <td>1.8 [0.8-3.3]</td>\n",
       "    </tr>\n",
       "    <tr>\n",
       "      <th>1</th>\n",
       "      <td>Albania</td>\n",
       "      <td>17.6 [12.7-22.2]</td>\n",
       "      <td>18.7 [12-26.3]</td>\n",
       "      <td>16.5 [10.7-23.4]</td>\n",
       "    </tr>\n",
       "    <tr>\n",
       "      <th>2</th>\n",
       "      <td>Algeria</td>\n",
       "      <td>24.8 [19.7-29.8]</td>\n",
       "      <td>30.8 [23.4-38.5]</td>\n",
       "      <td>18.8 [12.9-25.4]</td>\n",
       "    </tr>\n",
       "    <tr>\n",
       "      <th>3</th>\n",
       "      <td>Andorra</td>\n",
       "      <td>29.5 [23.8-35.1]</td>\n",
       "      <td>30.5 [22.5-39.1]</td>\n",
       "      <td>28.5 [21.1-36.1]</td>\n",
       "    </tr>\n",
       "    <tr>\n",
       "      <th>4</th>\n",
       "      <td>Angola</td>\n",
       "      <td>10.2 [6-14.3]</td>\n",
       "      <td>14.2 [8.4-21.7]</td>\n",
       "      <td>6 [2.9-10.8]</td>\n",
       "    </tr>\n",
       "  </tbody>\n",
       "</table>\n",
       "</div>"
      ],
      "text/plain": [
       "       Country        Both sexes            Female              Male\n",
       "0  Afghanistan     2.9 [1.6-4.2]     4.1 [2.2-6.7]     1.8 [0.8-3.3]\n",
       "1      Albania  17.6 [12.7-22.2]    18.7 [12-26.3]  16.5 [10.7-23.4]\n",
       "2      Algeria  24.8 [19.7-29.8]  30.8 [23.4-38.5]  18.8 [12.9-25.4]\n",
       "3      Andorra  29.5 [23.8-35.1]  30.5 [22.5-39.1]  28.5 [21.1-36.1]\n",
       "4       Angola     10.2 [6-14.3]   14.2 [8.4-21.7]      6 [2.9-10.8]"
      ]
     },
     "execution_count": 42,
     "metadata": {},
     "output_type": "execute_result"
    }
   ],
   "source": [
    "df.head()"
   ]
  },
  {
   "cell_type": "code",
   "execution_count": 43,
   "metadata": {
    "collapsed": false
   },
   "outputs": [],
   "source": [
    "def splitter(x):\n",
    "    num = x.split(' ')[0]\n",
    "    return num"
   ]
  },
  {
   "cell_type": "code",
   "execution_count": 44,
   "metadata": {
    "collapsed": false
   },
   "outputs": [],
   "source": [
    "for col in df.columns[1:]:\n",
    "    df[col] = df[col].apply(splitter)\n",
    "    df[col] = pd.to_numeric(df[col], errors='coerce')\n",
    "df = df.rename(columns={df.columns[1]:'Both'})  "
   ]
  },
  {
   "cell_type": "code",
   "execution_count": 45,
   "metadata": {
    "collapsed": false
   },
   "outputs": [
    {
     "data": {
      "text/html": [
       "<div>\n",
       "<table border=\"1\" class=\"dataframe\">\n",
       "  <thead>\n",
       "    <tr style=\"text-align: right;\">\n",
       "      <th></th>\n",
       "      <th>Country</th>\n",
       "      <th>Both</th>\n",
       "      <th>Female</th>\n",
       "      <th>Male</th>\n",
       "    </tr>\n",
       "  </thead>\n",
       "  <tbody>\n",
       "    <tr>\n",
       "      <th>0</th>\n",
       "      <td>Afghanistan</td>\n",
       "      <td>2.9</td>\n",
       "      <td>4.1</td>\n",
       "      <td>1.8</td>\n",
       "    </tr>\n",
       "    <tr>\n",
       "      <th>1</th>\n",
       "      <td>Albania</td>\n",
       "      <td>17.6</td>\n",
       "      <td>18.7</td>\n",
       "      <td>16.5</td>\n",
       "    </tr>\n",
       "    <tr>\n",
       "      <th>2</th>\n",
       "      <td>Algeria</td>\n",
       "      <td>24.8</td>\n",
       "      <td>30.8</td>\n",
       "      <td>18.8</td>\n",
       "    </tr>\n",
       "    <tr>\n",
       "      <th>3</th>\n",
       "      <td>Andorra</td>\n",
       "      <td>29.5</td>\n",
       "      <td>30.5</td>\n",
       "      <td>28.5</td>\n",
       "    </tr>\n",
       "    <tr>\n",
       "      <th>4</th>\n",
       "      <td>Angola</td>\n",
       "      <td>10.2</td>\n",
       "      <td>14.2</td>\n",
       "      <td>6.0</td>\n",
       "    </tr>\n",
       "  </tbody>\n",
       "</table>\n",
       "</div>"
      ],
      "text/plain": [
       "       Country  Both   Female   Male\n",
       "0  Afghanistan   2.9      4.1    1.8\n",
       "1      Albania  17.6     18.7   16.5\n",
       "2      Algeria  24.8     30.8   18.8\n",
       "3      Andorra  29.5     30.5   28.5\n",
       "4       Angola  10.2     14.2    6.0"
      ]
     },
     "execution_count": 45,
     "metadata": {},
     "output_type": "execute_result"
    }
   ],
   "source": [
    "df.head()"
   ]
  },
  {
   "cell_type": "code",
   "execution_count": 46,
   "metadata": {
    "collapsed": false
   },
   "outputs": [],
   "source": [
    "df_sorted = df.sort_values(by='Both')"
   ]
  },
  {
   "cell_type": "code",
   "execution_count": 50,
   "metadata": {
    "collapsed": false,
    "scrolled": true
   },
   "outputs": [],
   "source": []
  },
  {
   "cell_type": "code",
   "execution_count": 49,
   "metadata": {
    "collapsed": false
   },
   "outputs": [],
   "source": [
    "dfs = df_sorted.tail(25)\n",
    "ax = plt.barh(np.arange(len(dfs))-1, dfs.Both, align='center')\n",
    "plt.subplots_adjust(left=0.27)\n",
    "plt.yticks(np.arange(len(dfs))-1,dfs.Country.values)\n",
    "plt.title(\"Top 25 Obese Nations (2014)\")\n",
    "plt.xlabel(\"Percent of Population Obese\")\n",
    "plt.show()"
   ]
  },
  {
   "cell_type": "code",
   "execution_count": 53,
   "metadata": {
    "collapsed": false
   },
   "outputs": [],
   "source": [
    "dfs = df_sorted.head(25).sort_values(by='Both', ascending=False)\n",
    "ax = plt.barh(np.arange(len(dfs))-1, dfs.Both, align='center', color='lightblue')\n",
    "plt.subplots_adjust(left=0.27)\n",
    "plt.yticks(np.arange(len(dfs))-1,dfs.Country.values)\n",
    "plt.title(\"25 Least Obese Nations (2014)\")\n",
    "plt.xlabel(\"Percent of Population Obese\")\n",
    "plt.show()\n"
   ]
  },
  {
   "cell_type": "code",
   "execution_count": 55,
   "metadata": {
    "collapsed": false
   },
   "outputs": [],
   "source": [
    "with open('C:/Users/Noah/DDW/open_data/ISO_Codes/ISO_Country_Codes.csv') as f:\n",
    "    idf = pd.read_csv(f, header=None)"
   ]
  },
  {
   "cell_type": "code",
   "execution_count": 56,
   "metadata": {
    "collapsed": false
   },
   "outputs": [],
   "source": [
    "idf.rename(columns={0:'ISO', 1:'Country'}, inplace=True)"
   ]
  },
  {
   "cell_type": "code",
   "execution_count": 57,
   "metadata": {
    "collapsed": false
   },
   "outputs": [
    {
     "data": {
      "text/html": [
       "<div>\n",
       "<table border=\"1\" class=\"dataframe\">\n",
       "  <thead>\n",
       "    <tr style=\"text-align: right;\">\n",
       "      <th></th>\n",
       "      <th>ISO</th>\n",
       "      <th>Country</th>\n",
       "    </tr>\n",
       "  </thead>\n",
       "  <tbody>\n",
       "    <tr>\n",
       "      <th>0</th>\n",
       "      <td>ABW</td>\n",
       "      <td>Aruba</td>\n",
       "    </tr>\n",
       "    <tr>\n",
       "      <th>1</th>\n",
       "      <td>AFG</td>\n",
       "      <td>Afghanistan</td>\n",
       "    </tr>\n",
       "    <tr>\n",
       "      <th>2</th>\n",
       "      <td>AGO</td>\n",
       "      <td>Angola</td>\n",
       "    </tr>\n",
       "    <tr>\n",
       "      <th>3</th>\n",
       "      <td>AIA</td>\n",
       "      <td>Anguilla</td>\n",
       "    </tr>\n",
       "    <tr>\n",
       "      <th>4</th>\n",
       "      <td>ALA</td>\n",
       "      <td>�land Islands</td>\n",
       "    </tr>\n",
       "  </tbody>\n",
       "</table>\n",
       "</div>"
      ],
      "text/plain": [
       "   ISO        Country\n",
       "0  ABW          Aruba\n",
       "1  AFG    Afghanistan\n",
       "2  AGO         Angola\n",
       "3  AIA       Anguilla\n",
       "4  ALA  �land Islands"
      ]
     },
     "execution_count": 57,
     "metadata": {},
     "output_type": "execute_result"
    }
   ],
   "source": [
    "idf.head()"
   ]
  },
  {
   "cell_type": "code",
   "execution_count": 58,
   "metadata": {
    "collapsed": false
   },
   "outputs": [],
   "source": [
    "df_set = pd.core.series.Series(list(set(df_sorted.Country)))\n",
    "idf_set = pd.core.series.Series(list(set(idf.Country)))"
   ]
  },
  {
   "cell_type": "code",
   "execution_count": 59,
   "metadata": {
    "collapsed": false
   },
   "outputs": [
    {
     "data": {
      "text/plain": [
       "[(46, False),\n",
       " (47, False),\n",
       " (60, False),\n",
       " (69, False),\n",
       " (71, False),\n",
       " (98, False),\n",
       " (101, False),\n",
       " (129, False),\n",
       " (132, False),\n",
       " (157, False),\n",
       " (160, False),\n",
       " (161, False),\n",
       " (185, False)]"
      ]
     },
     "execution_count": 59,
     "metadata": {},
     "output_type": "execute_result"
    }
   ],
   "source": [
    "[(i, j) for (i, j) in enumerate(df_set.isin(idf_set)) if not j]"
   ]
  },
  {
   "cell_type": "code",
   "execution_count": 89,
   "metadata": {
    "collapsed": false
   },
   "outputs": [
    {
     "name": "stdout",
     "output_type": "stream",
     "text": [
      "df_set:  Democratic People's Republic of Korea\n"
     ]
    }
   ],
   "source": [
    "print \"df_set: \", df_set[185]"
   ]
  },
  {
   "cell_type": "code",
   "execution_count": 90,
   "metadata": {
    "collapsed": false
   },
   "outputs": [
    {
     "name": "stdout",
     "output_type": "stream",
     "text": [
      "135                        Korea, Republic of\n",
      "149    Korea, Democratic People's Republic of\n",
      "dtype: object\n"
     ]
    }
   ],
   "source": [
    "x = [i for i, j in enumerate(idf_set.str.contains('Korea')) if j]\n",
    "print idf_set[x]"
   ]
  },
  {
   "cell_type": "code",
   "execution_count": 94,
   "metadata": {
    "collapsed": false
   },
   "outputs": [],
   "source": [
    "#idf\n",
    "iso_replace = \\\n",
    "{'country' : \n",
    "   {idf_set[90] : df_set[46],\n",
    "    idf_set[88] : df_set[47],\n",
    "    idf_set[232] : df_set[60],\n",
    "    idf_set[135] : df_set[69],\n",
    "    idf_set[200] : df_set[71],\n",
    "    idf_set[73] : df_set[98],\n",
    "    idf_set[219] : df_set[101],\n",
    "    idf_set[178]  : df_set[129],\n",
    "    idf_set[2] : df_set[132],\n",
    "    idf_set[86]  : df_set[157],\n",
    "    idf_set[241]  : df_set[160],\n",
    "    idf_set[36] : df_set[161],\n",
    "    idf_set[149] : df_set[185]\n",
    "   }\n",
    " }"
   ]
  },
  {
   "cell_type": "code",
   "execution_count": 95,
   "metadata": {
    "collapsed": false
   },
   "outputs": [],
   "source": [
    "idf = idf.replace(iso_replace)"
   ]
  },
  {
   "cell_type": "code",
   "execution_count": 98,
   "metadata": {
    "collapsed": false
   },
   "outputs": [
    {
     "data": {
      "text/html": [
       "<div>\n",
       "<table border=\"1\" class=\"dataframe\">\n",
       "  <thead>\n",
       "    <tr style=\"text-align: right;\">\n",
       "      <th></th>\n",
       "      <th>Country</th>\n",
       "      <th>Both</th>\n",
       "      <th>Female</th>\n",
       "      <th>Male</th>\n",
       "    </tr>\n",
       "  </thead>\n",
       "  <tbody>\n",
       "    <tr>\n",
       "      <th>0</th>\n",
       "      <td>Afghanistan</td>\n",
       "      <td>2.9</td>\n",
       "      <td>4.1</td>\n",
       "      <td>1.8</td>\n",
       "    </tr>\n",
       "    <tr>\n",
       "      <th>1</th>\n",
       "      <td>Albania</td>\n",
       "      <td>17.6</td>\n",
       "      <td>18.7</td>\n",
       "      <td>16.5</td>\n",
       "    </tr>\n",
       "    <tr>\n",
       "      <th>2</th>\n",
       "      <td>Algeria</td>\n",
       "      <td>24.8</td>\n",
       "      <td>30.8</td>\n",
       "      <td>18.8</td>\n",
       "    </tr>\n",
       "    <tr>\n",
       "      <th>3</th>\n",
       "      <td>Andorra</td>\n",
       "      <td>29.5</td>\n",
       "      <td>30.5</td>\n",
       "      <td>28.5</td>\n",
       "    </tr>\n",
       "    <tr>\n",
       "      <th>4</th>\n",
       "      <td>Angola</td>\n",
       "      <td>10.2</td>\n",
       "      <td>14.2</td>\n",
       "      <td>6.0</td>\n",
       "    </tr>\n",
       "  </tbody>\n",
       "</table>\n",
       "</div>"
      ],
      "text/plain": [
       "       Country  Both   Female   Male\n",
       "0  Afghanistan   2.9      4.1    1.8\n",
       "1      Albania  17.6     18.7   16.5\n",
       "2      Algeria  24.8     30.8   18.8\n",
       "3      Andorra  29.5     30.5   28.5\n",
       "4       Angola  10.2     14.2    6.0"
      ]
     },
     "execution_count": 98,
     "metadata": {},
     "output_type": "execute_result"
    }
   ],
   "source": [
    "df.head()"
   ]
  },
  {
   "cell_type": "markdown",
   "metadata": {},
   "source": [
    "Merge dataframes to add ISO codes"
   ]
  },
  {
   "cell_type": "code",
   "execution_count": 104,
   "metadata": {
    "collapsed": false
   },
   "outputs": [],
   "source": [
    "test = idf.merge(df, how='inner', on='Country')\n",
    "test = test.rename(columns={'ISO':'code', 'Both':'value'})"
   ]
  },
  {
   "cell_type": "code",
   "execution_count": 105,
   "metadata": {
    "collapsed": false
   },
   "outputs": [],
   "source": [
    "#test[test.value.notnull()].sort_values('value')\n",
    "#test.drop(['Country','Sex','Age Group','Year2010'], axis=1, inplace=True)"
   ]
  },
  {
   "cell_type": "code",
   "execution_count": 106,
   "metadata": {
    "collapsed": false
   },
   "outputs": [
    {
     "name": "stdout",
     "output_type": "stream",
     "text": [
      "<class 'pandas.core.frame.DataFrame'>\n",
      "Int64Index: 179 entries, 0 to 178\n",
      "Data columns (total 5 columns):\n",
      "code       179 non-null object\n",
      "Country    179 non-null object\n",
      "value      179 non-null float64\n",
      " Female    179 non-null float64\n",
      " Male      179 non-null float64\n",
      "dtypes: float64(3), object(2)\n",
      "memory usage: 8.4+ KB\n"
     ]
    }
   ],
   "source": [
    "test.info()"
   ]
  },
  {
   "cell_type": "code",
   "execution_count": 107,
   "metadata": {
    "collapsed": false
   },
   "outputs": [],
   "source": [
    "test.to_csv('obese_nations_iso.csv', index=False)"
   ]
  },
  {
   "cell_type": "code",
   "execution_count": 44,
   "metadata": {
    "collapsed": true
   },
   "outputs": [],
   "source": [
    "ax = plt.barh(np.arange(len(t))-1, t.value, align='center')"
   ]
  },
  {
   "cell_type": "code",
   "execution_count": 67,
   "metadata": {
    "collapsed": false
   },
   "outputs": [],
   "source": [
    "t = test[test.value.notnull()].sort_values('value', ascending=False).tail(25)"
   ]
  },
  {
   "cell_type": "code",
   "execution_count": null,
   "metadata": {
    "collapsed": false
   },
   "outputs": [],
   "source": [
    "ax = plt.barh(np.arange(len(t)), t.value, align='center', color='lightblue')\n",
    "plt.subplots_adjust(left=0.27)\n",
    "plt.yticks(np.arange(len(t)),t.Country.values, fontsize=13)\n",
    "plt.title(\"25 Least Obese Nations (2014)\", fontsize=16)\n",
    "plt.xlabel(\"Percent of Population Obese\", fontsize=14)\n",
    "\n",
    "\n",
    "plt.show()"
   ]
  }
 ],
 "metadata": {
  "kernelspec": {
   "display_name": "Python 2",
   "language": "python",
   "name": "python2"
  },
  "language_info": {
   "codemirror_mode": {
    "name": "ipython",
    "version": 2
   },
   "file_extension": ".py",
   "mimetype": "text/x-python",
   "name": "python",
   "nbconvert_exporter": "python",
   "pygments_lexer": "ipython2",
   "version": "2.7.11"
  }
 },
 "nbformat": 4,
 "nbformat_minor": 0
}
